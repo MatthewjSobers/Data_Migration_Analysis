{
 "cells": [
  {
   "cell_type": "code",
   "execution_count": 1,
   "id": "295dcc2d",
   "metadata": {},
   "outputs": [
    {
     "name": "stderr",
     "output_type": "stream",
     "text": [
      "C:\\Users\\mattx\\anaconda3\\lib\\site-packages\\scipy\\__init__.py:155: UserWarning: A NumPy version >=1.18.5 and <1.25.0 is required for this version of SciPy (detected version 1.26.4\n",
      "  warnings.warn(f\"A NumPy version >={np_minversion} and <{np_maxversion}\"\n"
     ]
    }
   ],
   "source": [
    "import pandas as pd\n",
    "import matplotlib as plt\n",
    "import seaborn as sns"
   ]
  },
  {
   "cell_type": "markdown",
   "id": "f688bc18",
   "metadata": {},
   "source": [
    "## Pre Migration Analysis\n",
    "We will begin by analyzing elements of the data in order to later compare with the migrated data in databricks"
   ]
  },
  {
   "cell_type": "code",
   "execution_count": 6,
   "id": "2fe1c2ca",
   "metadata": {},
   "outputs": [
    {
     "data": {
      "text/html": [
       "<div>\n",
       "<style scoped>\n",
       "    .dataframe tbody tr th:only-of-type {\n",
       "        vertical-align: middle;\n",
       "    }\n",
       "\n",
       "    .dataframe tbody tr th {\n",
       "        vertical-align: top;\n",
       "    }\n",
       "\n",
       "    .dataframe thead th {\n",
       "        text-align: right;\n",
       "    }\n",
       "</style>\n",
       "<table border=\"1\" class=\"dataframe\">\n",
       "  <thead>\n",
       "    <tr style=\"text-align: right;\">\n",
       "      <th></th>\n",
       "      <th>TRANSACTION_ID</th>\n",
       "      <th>CUSTOMER_ID</th>\n",
       "      <th>DATE_BIRTH</th>\n",
       "      <th>GENDER</th>\n",
       "      <th>CUST_LOCATION</th>\n",
       "      <th>ACCOUNT_BALANCE</th>\n",
       "      <th>TRANSACTION_DATE</th>\n",
       "      <th>TRANSACTION_TIME</th>\n",
       "      <th>TRANSACTION_AMOUNT</th>\n",
       "    </tr>\n",
       "  </thead>\n",
       "  <tbody>\n",
       "    <tr>\n",
       "      <th>0</th>\n",
       "      <td>T244</td>\n",
       "      <td>C4531588</td>\n",
       "      <td>93-10-31</td>\n",
       "      <td>F</td>\n",
       "      <td>DELHI</td>\n",
       "      <td>2257.58</td>\n",
       "      <td>16-10-21</td>\n",
       "      <td>145417</td>\n",
       "      <td>460.00</td>\n",
       "    </tr>\n",
       "    <tr>\n",
       "      <th>1</th>\n",
       "      <td>T245</td>\n",
       "      <td>C5528968</td>\n",
       "      <td>00-01-01</td>\n",
       "      <td>M</td>\n",
       "      <td>PIPARIYA</td>\n",
       "      <td>5724.50</td>\n",
       "      <td>16-10-21</td>\n",
       "      <td>145424</td>\n",
       "      <td>4478.00</td>\n",
       "    </tr>\n",
       "    <tr>\n",
       "      <th>2</th>\n",
       "      <td>T246</td>\n",
       "      <td>C4814390</td>\n",
       "      <td>71-10-01</td>\n",
       "      <td>F</td>\n",
       "      <td>MIRA ROAD E</td>\n",
       "      <td>78122.46</td>\n",
       "      <td>16-10-21</td>\n",
       "      <td>150436</td>\n",
       "      <td>47290.00</td>\n",
       "    </tr>\n",
       "    <tr>\n",
       "      <th>3</th>\n",
       "      <td>T247</td>\n",
       "      <td>C6437438</td>\n",
       "      <td>83-05-22</td>\n",
       "      <td>F</td>\n",
       "      <td>BHUBANESHWAR</td>\n",
       "      <td>324551.50</td>\n",
       "      <td>16-10-21</td>\n",
       "      <td>151154</td>\n",
       "      <td>25000.00</td>\n",
       "    </tr>\n",
       "    <tr>\n",
       "      <th>4</th>\n",
       "      <td>T248</td>\n",
       "      <td>C8738676</td>\n",
       "      <td>00-01-01</td>\n",
       "      <td>M</td>\n",
       "      <td>RAJPURA</td>\n",
       "      <td>362200.72</td>\n",
       "      <td>16-10-21</td>\n",
       "      <td>151251</td>\n",
       "      <td>53000.00</td>\n",
       "    </tr>\n",
       "    <tr>\n",
       "      <th>...</th>\n",
       "      <td>...</td>\n",
       "      <td>...</td>\n",
       "      <td>...</td>\n",
       "      <td>...</td>\n",
       "      <td>...</td>\n",
       "      <td>...</td>\n",
       "      <td>...</td>\n",
       "      <td>...</td>\n",
       "      <td>...</td>\n",
       "    </tr>\n",
       "    <tr>\n",
       "      <th>249995</th>\n",
       "      <td>T246143</td>\n",
       "      <td>C6562053</td>\n",
       "      <td>88-10-03</td>\n",
       "      <td>M</td>\n",
       "      <td>DELHI</td>\n",
       "      <td>48564.43</td>\n",
       "      <td>16-08-07</td>\n",
       "      <td>221311</td>\n",
       "      <td>220.00</td>\n",
       "    </tr>\n",
       "    <tr>\n",
       "      <th>249996</th>\n",
       "      <td>T246144</td>\n",
       "      <td>C3571171</td>\n",
       "      <td>87-07-04</td>\n",
       "      <td>F</td>\n",
       "      <td>NAVI MUMBAI</td>\n",
       "      <td>6319.68</td>\n",
       "      <td>16-08-07</td>\n",
       "      <td>212039</td>\n",
       "      <td>1452.46</td>\n",
       "    </tr>\n",
       "    <tr>\n",
       "      <th>249997</th>\n",
       "      <td>T246145</td>\n",
       "      <td>C3727875</td>\n",
       "      <td>88-11-01</td>\n",
       "      <td>F</td>\n",
       "      <td>HOSHIARPUR</td>\n",
       "      <td>13431.08</td>\n",
       "      <td>16-08-07</td>\n",
       "      <td>212046</td>\n",
       "      <td>347.50</td>\n",
       "    </tr>\n",
       "    <tr>\n",
       "      <th>249998</th>\n",
       "      <td>T246146</td>\n",
       "      <td>C3929118</td>\n",
       "      <td>99-08-19</td>\n",
       "      <td>M</td>\n",
       "      <td>AURANGABAD</td>\n",
       "      <td>18897.50</td>\n",
       "      <td>16-08-07</td>\n",
       "      <td>212046</td>\n",
       "      <td>875.00</td>\n",
       "    </tr>\n",
       "    <tr>\n",
       "      <th>249999</th>\n",
       "      <td>T246147</td>\n",
       "      <td>C1180490</td>\n",
       "      <td>91-01-04</td>\n",
       "      <td>M</td>\n",
       "      <td>AHMEDABAD</td>\n",
       "      <td>124353.95</td>\n",
       "      <td>16-08-07</td>\n",
       "      <td>212146</td>\n",
       "      <td>406.00</td>\n",
       "    </tr>\n",
       "  </tbody>\n",
       "</table>\n",
       "<p>250000 rows × 9 columns</p>\n",
       "</div>"
      ],
      "text/plain": [
       "       TRANSACTION_ID CUSTOMER_ID DATE_BIRTH GENDER CUST_LOCATION  \\\n",
       "0                T244    C4531588   93-10-31      F         DELHI   \n",
       "1                T245    C5528968   00-01-01      M      PIPARIYA   \n",
       "2                T246    C4814390   71-10-01      F   MIRA ROAD E   \n",
       "3                T247    C6437438   83-05-22      F  BHUBANESHWAR   \n",
       "4                T248    C8738676   00-01-01      M       RAJPURA   \n",
       "...               ...         ...        ...    ...           ...   \n",
       "249995        T246143    C6562053   88-10-03      M         DELHI   \n",
       "249996        T246144    C3571171   87-07-04      F   NAVI MUMBAI   \n",
       "249997        T246145    C3727875   88-11-01      F    HOSHIARPUR   \n",
       "249998        T246146    C3929118   99-08-19      M    AURANGABAD   \n",
       "249999        T246147    C1180490   91-01-04      M     AHMEDABAD   \n",
       "\n",
       "        ACCOUNT_BALANCE TRANSACTION_DATE  TRANSACTION_TIME  TRANSACTION_AMOUNT  \n",
       "0               2257.58         16-10-21            145417              460.00  \n",
       "1               5724.50         16-10-21            145424             4478.00  \n",
       "2              78122.46         16-10-21            150436            47290.00  \n",
       "3             324551.50         16-10-21            151154            25000.00  \n",
       "4             362200.72         16-10-21            151251            53000.00  \n",
       "...                 ...              ...               ...                 ...  \n",
       "249995         48564.43         16-08-07            221311              220.00  \n",
       "249996          6319.68         16-08-07            212039             1452.46  \n",
       "249997         13431.08         16-08-07            212046              347.50  \n",
       "249998         18897.50         16-08-07            212046              875.00  \n",
       "249999        124353.95         16-08-07            212146              406.00  \n",
       "\n",
       "[250000 rows x 9 columns]"
      ]
     },
     "execution_count": 6,
     "metadata": {},
     "output_type": "execute_result"
    }
   ],
   "source": [
    "# read data\n",
    "df = pd.read_csv(\"banking_transactions_data.csv\")\n",
    "df"
   ]
  },
  {
   "cell_type": "code",
   "execution_count": 7,
   "id": "701121e3",
   "metadata": {},
   "outputs": [
    {
     "data": {
      "text/plain": [
       "(250000, 9)"
      ]
     },
     "execution_count": 7,
     "metadata": {},
     "output_type": "execute_result"
    }
   ],
   "source": [
    "# how many entries and features\n",
    "df.shape"
   ]
  },
  {
   "cell_type": "code",
   "execution_count": 8,
   "id": "b5d43864",
   "metadata": {},
   "outputs": [
    {
     "data": {
      "text/plain": [
       "Index(['TRANSACTION_ID', 'CUSTOMER_ID', 'DATE_BIRTH', 'GENDER',\n",
       "       'CUST_LOCATION', 'ACCOUNT_BALANCE', 'TRANSACTION_DATE',\n",
       "       'TRANSACTION_TIME', 'TRANSACTION_AMOUNT'],\n",
       "      dtype='object')"
      ]
     },
     "execution_count": 8,
     "metadata": {},
     "output_type": "execute_result"
    }
   ],
   "source": [
    "# Show all features in the dataset \n",
    "df.columns"
   ]
  },
  {
   "cell_type": "code",
   "execution_count": 17,
   "id": "e2a047f1",
   "metadata": {},
   "outputs": [
    {
     "data": {
      "text/plain": [
       "MUMBAI       24631\n",
       "BANGALORE    20346\n",
       "NEW DELHI    20090\n",
       "GURGAON      17716\n",
       "DELHI        16732\n",
       "Name: CUST_LOCATION, dtype: int64"
      ]
     },
     "execution_count": 17,
     "metadata": {},
     "output_type": "execute_result"
    }
   ],
   "source": [
    "# Show how many entries in top 5 cities\n",
    "df[\"CUST_LOCATION\"].value_counts()[:5]"
   ]
  },
  {
   "cell_type": "code",
   "execution_count": 19,
   "id": "a61a8fa2",
   "metadata": {},
   "outputs": [
    {
     "data": {
      "text/plain": [
       "109716.91431539113"
      ]
     },
     "execution_count": 19,
     "metadata": {},
     "output_type": "execute_result"
    }
   ],
   "source": [
    "# Find average account balance\n",
    "df[\"ACCOUNT_BALANCE\"].mean()"
   ]
  },
  {
   "cell_type": "code",
   "execution_count": 21,
   "id": "cf391ef4",
   "metadata": {},
   "outputs": [
    {
     "data": {
      "text/plain": [
       "400237664.81"
      ]
     },
     "execution_count": 21,
     "metadata": {},
     "output_type": "execute_result"
    }
   ],
   "source": [
    "# Find total amount spent\n",
    "df[\"TRANSACTION_AMOUNT\"].sum()"
   ]
  },
  {
   "cell_type": "code",
   "execution_count": 29,
   "id": "48d86b72",
   "metadata": {},
   "outputs": [
    {
     "data": {
      "text/plain": [
       "32477"
      ]
     },
     "execution_count": 29,
     "metadata": {},
     "output_type": "execute_result"
    }
   ],
   "source": [
    "# how many male customers had an account balance of less than 2000\n",
    "df.query(\"ACCOUNT_BALANCE < 2000 and GENDER == 'M'\").shape[0]"
   ]
  },
  {
   "cell_type": "code",
   "execution_count": 32,
   "id": "ba1aa788",
   "metadata": {},
   "outputs": [
    {
     "data": {
      "text/plain": [
       "249995    C6562053\n",
       "Name: CUSTOMER_ID, dtype: object"
      ]
     },
     "execution_count": 32,
     "metadata": {},
     "output_type": "execute_result"
    }
   ],
   "source": [
    "# What customer ID is associated with Transaction ID T246143\n",
    "df.query(\"TRANSACTION_ID == 'T246143'\")[\"CUSTOMER_ID\"]"
   ]
  }
 ],
 "metadata": {
  "kernelspec": {
   "display_name": "Python 3 (ipykernel)",
   "language": "python",
   "name": "python3"
  },
  "language_info": {
   "codemirror_mode": {
    "name": "ipython",
    "version": 3
   },
   "file_extension": ".py",
   "mimetype": "text/x-python",
   "name": "python",
   "nbconvert_exporter": "python",
   "pygments_lexer": "ipython3",
   "version": "3.9.13"
  }
 },
 "nbformat": 4,
 "nbformat_minor": 5
}
