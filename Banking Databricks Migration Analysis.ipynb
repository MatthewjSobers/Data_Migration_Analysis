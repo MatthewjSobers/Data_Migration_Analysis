{
 "cells": [
  {
   "cell_type": "code",
   "execution_count": 0,
   "metadata": {
    "application/vnd.databricks.v1+cell": {
     "cellMetadata": {
      "byteLimit": 2048000,
      "rowLimit": 10000
     },
     "inputWidgets": {},
     "nuid": "edf152d4-09bd-4cc9-9911-a1197a0c59be",
     "showTitle": false,
     "tableResultSettingsMap": {},
     "title": ""
    }
   },
   "outputs": [
    {
     "output_type": "stream",
     "name": "stdout",
     "output_type": "stream",
     "text": [
      "+--------------+-----------+----------+------+--------------------+---------------+----------------+----------------+------------------+\n|TRANSACTION_ID|CUSTOMER_ID|DATE_BIRTH|GENDER|       CUST_LOCATION|ACCOUNT_BALANCE|TRANSACTION_DATE|TRANSACTION_TIME|TRANSACTION_AMOUNT|\n+--------------+-----------+----------+------+--------------------+---------------+----------------+----------------+------------------+\n|          T244|   C4531588|  93-10-31|     F|               DELHI|        2257.58|      2021-10-16|          145417|             460.0|\n|          T245|   C5528968|  00-01-01|     M|            PIPARIYA|         5724.5|      2021-10-16|          145424|            4478.0|\n|          T246|   C4814390|  71-10-01|     F|         MIRA ROAD E|       78122.46|      2021-10-16|          150436|           47290.0|\n|          T247|   C6437438|  83-05-22|     F|        BHUBANESHWAR|       324551.5|      2021-10-16|          151154|           25000.0|\n|          T248|   C8738676|  00-01-01|     M|             RAJPURA|      362200.72|      2021-10-16|          151251|           53000.0|\n|          T249|   C1812573|  87-01-14|     F|          SAHARANPUR|       41268.37|      2021-10-16|          151201|              35.0|\n|          T250|   C8915718|  86-06-26|     F|           PANCHKULA|       22802.23|      2021-10-16|          145515|             100.0|\n|          T251|   C5334280|  74-08-20|     M|            ROURKELA|        13996.1|      2021-10-16|          155146|             100.0|\n|          T252|   C5920074|  83-10-26|     F|           FARIDABAD|       48587.19|      2021-10-16|          150848|            1595.0|\n|          T253|   C1733292|  89-11-04|     M|             CHENNAI|      174684.91|      2021-10-16|          150848|             283.0|\n|          T254|   C6230681|  89-11-19|     F|           BANGALORE|        7948.27|      2021-10-16|          171343|              68.0|\n|          T255|   C1977592|  93-10-30|     M|           JALANDHAR|      155684.44|      2021-10-16|          152514|            3034.5|\n|          T256|   C4418491|  90-03-05|     F|               DELHI|       17555.91|      2021-10-16|          162522|             110.0|\n|          T257|   C5212180|  86-03-18|     F|              MUMBAI|      168034.54|      2021-10-16|          161714|              10.0|\n|          T258|   C5227319|  80-05-18|     F|         WEST MUMBAI|        4459.73|      2021-10-16|          152525|            2870.0|\n|          T259|   C9016392|  90-08-24|     M|               DELHI|        9236.65|      2021-10-16|          164132|             259.0|\n|          T260|   C3531473|  89-12-03|     M|             KOLKATA|       13592.65|      2021-10-16|          154628|           1128.37|\n|          T261|   C7340149|  77-06-28|     M|             GWALIOR|      134969.65|      2021-10-16|          152653|            2200.0|\n|          T262|   C8091089|  73-04-10|     M|              INDORE|        7967.47|      2021-10-16|          152237|             330.0|\n|          T263|   C7878838|  00-01-01|     M|SECTOR 21 KHARGHA...|      444234.73|      2021-10-16|          145620|             201.0|\n+--------------+-----------+----------+------+--------------------+---------------+----------------+----------------+------------------+\nonly showing top 20 rows\n\n"
     ]
    }
   ],
   "source": [
    "#load the data into databricks\n",
    "df = spark.read.csv(\"/FileStore/tables/banking_transactions_data.csv\", header=True, inferSchema=True)\n",
    "df.show()\n"
   ]
  },
  {
   "cell_type": "code",
   "execution_count": 0,
   "metadata": {
    "application/vnd.databricks.v1+cell": {
     "cellMetadata": {
      "byteLimit": 2048000,
      "rowLimit": 10000
     },
     "inputWidgets": {},
     "nuid": "547164d4-96d3-4328-a364-3b1e0e2d62e5",
     "showTitle": false,
     "tableResultSettingsMap": {},
     "title": ""
    }
   },
   "outputs": [],
   "source": [
    "import pandas as pd\n",
    "dfp = df.toPandas()"
   ]
  },
  {
   "cell_type": "markdown",
   "metadata": {
    "application/vnd.databricks.v1+cell": {
     "cellMetadata": {},
     "inputWidgets": {},
     "nuid": "64f50dac-3e41-47f7-9fd2-7f35d87140fa",
     "showTitle": false,
     "tableResultSettingsMap": {},
     "title": ""
    }
   },
   "source": [
    "## Data validation\n",
    "We will start by validating the data by analyzing the contents of the dataframe to compare to the same analysis done before the migration"
   ]
  },
  {
   "cell_type": "code",
   "execution_count": 0,
   "metadata": {
    "application/vnd.databricks.v1+cell": {
     "cellMetadata": {
      "byteLimit": 2048000,
      "rowLimit": 10000
     },
     "inputWidgets": {},
     "nuid": "fda68767-d001-4ec3-bea4-3932b635834b",
     "showTitle": false,
     "tableResultSettingsMap": {},
     "title": ""
    }
   },
   "outputs": [
    {
     "output_type": "execute_result",
     "data": {
      "text/plain": [
       "250000"
      ]
     },
     "execution_count": 16,
     "metadata": {},
     "output_type": "execute_result"
    }
   ],
   "source": [
    "#show number of entries (Expected = 250 000)\n",
    "df.count()"
   ]
  },
  {
   "cell_type": "code",
   "execution_count": 0,
   "metadata": {
    "application/vnd.databricks.v1+cell": {
     "cellMetadata": {
      "byteLimit": 2048000,
      "rowLimit": 10000
     },
     "inputWidgets": {},
     "nuid": "f84f81ec-87da-4113-ad4a-31babf04363d",
     "showTitle": false,
     "tableResultSettingsMap": {},
     "title": ""
    }
   },
   "outputs": [
    {
     "output_type": "execute_result",
     "data": {
      "text/plain": [
       "['TRANSACTION_ID',\n",
       " 'CUSTOMER_ID',\n",
       " 'DATE_BIRTH',\n",
       " 'GENDER',\n",
       " 'CUST_LOCATION',\n",
       " 'ACCOUNT_BALANCE',\n",
       " 'TRANSACTION_DATE',\n",
       " 'TRANSACTION_TIME',\n",
       " 'TRANSACTION_AMOUNT']"
      ]
     },
     "execution_count": 7,
     "metadata": {},
     "output_type": "execute_result"
    }
   ],
   "source": [
    "#show all features in the dataset (Expected = 9 features)\n",
    "df.columns"
   ]
  },
  {
   "cell_type": "code",
   "execution_count": 0,
   "metadata": {
    "application/vnd.databricks.v1+cell": {
     "cellMetadata": {
      "byteLimit": 2048000,
      "rowLimit": 10000
     },
     "inputWidgets": {},
     "nuid": "4faf7a6e-4f83-4896-ae9c-579bc92938aa",
     "showTitle": false,
     "tableResultSettingsMap": {},
     "title": ""
    }
   },
   "outputs": [
    {
     "output_type": "stream",
     "name": "stdout",
     "output_type": "stream",
     "text": [
      "+-------------+-----+\n|CUST_LOCATION|count|\n+-------------+-----+\n|       MUMBAI|24631|\n|    BANGALORE|20346|\n|    NEW DELHI|20090|\n|      GURGAON|17716|\n|        DELHI|16732|\n+-------------+-----+\nonly showing top 5 rows\n\n"
     ]
    }
   ],
   "source": [
    "# Show how many entries in top 5 cities\n",
    "# Expected =\n",
    "# MUMBAI = 24631\n",
    "# BANGALORE = 20346\n",
    "# NEW DELHI = 20090\n",
    "# GURGAON = 17716\n",
    "# DELHI = 16732)\n",
    "df.groupby(\"CUST_LOCATION\").count().orderBy(\"count\", ascending=False).show(5)"
   ]
  },
  {
   "cell_type": "code",
   "execution_count": 0,
   "metadata": {
    "application/vnd.databricks.v1+cell": {
     "cellMetadata": {
      "byteLimit": 2048000,
      "rowLimit": 10000
     },
     "inputWidgets": {},
     "nuid": "c8bb52a4-481c-49c7-9c31-68f184f247e1",
     "showTitle": false,
     "tableResultSettingsMap": {},
     "title": ""
    }
   },
   "outputs": [
    {
     "output_type": "execute_result",
     "data": {
      "text/plain": [
       "109716.9143153905"
      ]
     },
     "execution_count": 21,
     "metadata": {},
     "output_type": "execute_result"
    }
   ],
   "source": [
    "# Average account balance (Expected = 109716.9143153)\n",
    "dfp[\"ACCOUNT_BALANCE\"].mean()"
   ]
  },
  {
   "cell_type": "code",
   "execution_count": 0,
   "metadata": {
    "application/vnd.databricks.v1+cell": {
     "cellMetadata": {
      "byteLimit": 2048000,
      "rowLimit": 10000
     },
     "inputWidgets": {},
     "nuid": "f2f5b87e-838c-4388-b986-4d81cd4c4b21",
     "showTitle": false,
     "tableResultSettingsMap": {},
     "title": ""
    }
   },
   "outputs": [
    {
     "output_type": "execute_result",
     "data": {
      "text/plain": [
       "400237664.81"
      ]
     },
     "execution_count": 22,
     "metadata": {},
     "output_type": "execute_result"
    }
   ],
   "source": [
    "# Total amount spent (Expected = 400237664.81)\n",
    "dfp[\"TRANSACTION_AMOUNT\"].sum()"
   ]
  },
  {
   "cell_type": "code",
   "execution_count": 0,
   "metadata": {
    "application/vnd.databricks.v1+cell": {
     "cellMetadata": {
      "byteLimit": 2048000,
      "rowLimit": 10000
     },
     "inputWidgets": {},
     "nuid": "2e4319fb-7b76-44c9-b29b-bde9d37d0467",
     "showTitle": false,
     "tableResultSettingsMap": {},
     "title": ""
    }
   },
   "outputs": [
    {
     "output_type": "execute_result",
     "data": {
      "text/plain": [
       "32477"
      ]
     },
     "execution_count": 24,
     "metadata": {},
     "output_type": "execute_result"
    }
   ],
   "source": [
    "# how many male customers had an account balance of less than 2000 (Expected = 32477)\n",
    "dfp.query(\"ACCOUNT_BALANCE < 2000 and GENDER == 'M'\").shape[0]"
   ]
  },
  {
   "cell_type": "code",
   "execution_count": 0,
   "metadata": {
    "application/vnd.databricks.v1+cell": {
     "cellMetadata": {
      "byteLimit": 2048000,
      "rowLimit": 10000
     },
     "inputWidgets": {},
     "nuid": "75811c5c-d0f9-402e-8941-1ae40e615013",
     "showTitle": false,
     "tableResultSettingsMap": {},
     "title": ""
    }
   },
   "outputs": [
    {
     "output_type": "execute_result",
     "data": {
      "text/plain": [
       "249995    C6562053\n",
       "Name: CUSTOMER_ID, dtype: object"
      ]
     },
     "execution_count": 26,
     "metadata": {},
     "output_type": "execute_result"
    }
   ],
   "source": [
    "# What customer ID is associated with Transaction ID T246143 (Expected = C6562053)\n",
    "dfp.query(\"TRANSACTION_ID == 'T246143'\")[\"CUSTOMER_ID\"]"
   ]
  },
  {
   "cell_type": "markdown",
   "metadata": {
    "application/vnd.databricks.v1+cell": {
     "cellMetadata": {},
     "inputWidgets": {},
     "nuid": "72db834e-550d-489b-bbc1-6911f23274fd",
     "showTitle": false,
     "tableResultSettingsMap": {},
     "title": ""
    }
   },
   "source": [
    "## Store data in azure cloud\n",
    "Next we will store the migrated data in a databricks cloud table."
   ]
  },
  {
   "cell_type": "code",
   "execution_count": 0,
   "metadata": {
    "application/vnd.databricks.v1+cell": {
     "cellMetadata": {
      "byteLimit": 2048000,
      "rowLimit": 10000
     },
     "inputWidgets": {},
     "nuid": "366d04e1-7f69-4934-8eca-745f256e03c5",
     "showTitle": false,
     "tableResultSettingsMap": {},
     "title": ""
    }
   },
   "outputs": [],
   "source": [
    "# Store dataframe to a dtabricks delta table\n",
    "df.write.format(\"delta\").save(\"dbfs:/mnt/delta/banking_transaction\")\n"
   ]
  }
 ],
 "metadata": {
  "application/vnd.databricks.v1+notebook": {
   "dashboards": [],
   "environmentMetadata": {
    "base_environment": "",
    "client": "1"
   },
   "language": "python",
   "notebookMetadata": {
    "mostRecentlyExecutedCommandWithImplicitDF": {
     "commandId": 2399524316877085,
     "dataframes": [
      "_sqldf"
     ]
    },
    "pythonIndentUnit": 2
   },
   "notebookName": "Data Migration Analysis",
   "widgets": {}
  },
  "language_info": {
   "name": "python"
  }
 },
 "nbformat": 4,
 "nbformat_minor": 0
}